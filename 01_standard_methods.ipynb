{
 "cells": [
  {
   "cell_type": "markdown",
   "metadata": {},
   "source": [
    "# Standard methods for anomaly detection\n",
    "\n",
    "TBD: introduction"
   ]
  },
  {
   "cell_type": "markdown",
   "metadata": {},
   "source": [
    "## Wine dataset\n",
    "\n",
    "Wine dataset is a quite popular and it contains **178** different observations, each described with **13** continuous variables with the following meaning:\n",
    "\n",
    "1. Alcohol\n",
    "2. Malic acid\n",
    "3. Ash\n",
    "4. Alcalinity of ash\n",
    "5. Magnesium\n",
    "6. Total phenols\n",
    "7. Flavanoids\n",
    "8. Nonflavanoid phenols\n",
    "9. Proanthocyanins\n",
    "10. Color intensity\n",
    "11. Hue\n",
    "12. OD280/OD315 of diluted wines\n",
    "13. Proline "
   ]
  },
  {
   "cell_type": "code",
   "execution_count": 1,
   "metadata": {},
   "outputs": [
    {
     "data": {
      "text/html": [
       "<div>\n",
       "<style scoped>\n",
       "    .dataframe tbody tr th:only-of-type {\n",
       "        vertical-align: middle;\n",
       "    }\n",
       "\n",
       "    .dataframe tbody tr th {\n",
       "        vertical-align: top;\n",
       "    }\n",
       "\n",
       "    .dataframe thead th {\n",
       "        text-align: right;\n",
       "    }\n",
       "</style>\n",
       "<table border=\"1\" class=\"dataframe\">\n",
       "  <thead>\n",
       "    <tr style=\"text-align: right;\">\n",
       "      <th></th>\n",
       "      <th>1</th>\n",
       "      <th>1</th>\n",
       "      <th>1</th>\n",
       "      <th>1</th>\n",
       "      <th>1</th>\n",
       "    </tr>\n",
       "  </thead>\n",
       "  <tbody>\n",
       "    <tr>\n",
       "      <th>alcohol</th>\n",
       "      <td>14.23</td>\n",
       "      <td>13.20</td>\n",
       "      <td>13.16</td>\n",
       "      <td>14.37</td>\n",
       "      <td>13.24</td>\n",
       "    </tr>\n",
       "    <tr>\n",
       "      <th>malic_acid</th>\n",
       "      <td>1.71</td>\n",
       "      <td>1.78</td>\n",
       "      <td>2.36</td>\n",
       "      <td>1.95</td>\n",
       "      <td>2.59</td>\n",
       "    </tr>\n",
       "    <tr>\n",
       "      <th>ash</th>\n",
       "      <td>2.43</td>\n",
       "      <td>2.14</td>\n",
       "      <td>2.67</td>\n",
       "      <td>2.50</td>\n",
       "      <td>2.87</td>\n",
       "    </tr>\n",
       "    <tr>\n",
       "      <th>alcalinity_of_ash</th>\n",
       "      <td>15.60</td>\n",
       "      <td>11.20</td>\n",
       "      <td>18.60</td>\n",
       "      <td>16.80</td>\n",
       "      <td>21.00</td>\n",
       "    </tr>\n",
       "    <tr>\n",
       "      <th>magnesium</th>\n",
       "      <td>127.00</td>\n",
       "      <td>100.00</td>\n",
       "      <td>101.00</td>\n",
       "      <td>113.00</td>\n",
       "      <td>118.00</td>\n",
       "    </tr>\n",
       "    <tr>\n",
       "      <th>total_phenols</th>\n",
       "      <td>2.80</td>\n",
       "      <td>2.65</td>\n",
       "      <td>2.80</td>\n",
       "      <td>3.85</td>\n",
       "      <td>2.80</td>\n",
       "    </tr>\n",
       "    <tr>\n",
       "      <th>flavanoids</th>\n",
       "      <td>3.06</td>\n",
       "      <td>2.76</td>\n",
       "      <td>3.24</td>\n",
       "      <td>3.49</td>\n",
       "      <td>2.69</td>\n",
       "    </tr>\n",
       "    <tr>\n",
       "      <th>nonflavanoid_phenols</th>\n",
       "      <td>0.28</td>\n",
       "      <td>0.26</td>\n",
       "      <td>0.30</td>\n",
       "      <td>0.24</td>\n",
       "      <td>0.39</td>\n",
       "    </tr>\n",
       "    <tr>\n",
       "      <th>proanthocyanins</th>\n",
       "      <td>2.29</td>\n",
       "      <td>1.28</td>\n",
       "      <td>2.81</td>\n",
       "      <td>2.18</td>\n",
       "      <td>1.82</td>\n",
       "    </tr>\n",
       "    <tr>\n",
       "      <th>color_intensity</th>\n",
       "      <td>5.64</td>\n",
       "      <td>4.38</td>\n",
       "      <td>5.68</td>\n",
       "      <td>7.80</td>\n",
       "      <td>4.32</td>\n",
       "    </tr>\n",
       "    <tr>\n",
       "      <th>hue</th>\n",
       "      <td>1.04</td>\n",
       "      <td>1.05</td>\n",
       "      <td>1.03</td>\n",
       "      <td>0.86</td>\n",
       "      <td>1.04</td>\n",
       "    </tr>\n",
       "    <tr>\n",
       "      <th>OD280/OD315_of_diluted_wines</th>\n",
       "      <td>3.92</td>\n",
       "      <td>3.40</td>\n",
       "      <td>3.17</td>\n",
       "      <td>3.45</td>\n",
       "      <td>2.93</td>\n",
       "    </tr>\n",
       "    <tr>\n",
       "      <th>proline</th>\n",
       "      <td>1065.00</td>\n",
       "      <td>1050.00</td>\n",
       "      <td>1185.00</td>\n",
       "      <td>1480.00</td>\n",
       "      <td>735.00</td>\n",
       "    </tr>\n",
       "  </tbody>\n",
       "</table>\n",
       "</div>"
      ],
      "text/plain": [
       "                                    1        1        1        1       1\n",
       "alcohol                         14.23    13.20    13.16    14.37   13.24\n",
       "malic_acid                       1.71     1.78     2.36     1.95    2.59\n",
       "ash                              2.43     2.14     2.67     2.50    2.87\n",
       "alcalinity_of_ash               15.60    11.20    18.60    16.80   21.00\n",
       "magnesium                      127.00   100.00   101.00   113.00  118.00\n",
       "total_phenols                    2.80     2.65     2.80     3.85    2.80\n",
       "flavanoids                       3.06     2.76     3.24     3.49    2.69\n",
       "nonflavanoid_phenols             0.28     0.26     0.30     0.24    0.39\n",
       "proanthocyanins                  2.29     1.28     2.81     2.18    1.82\n",
       "color_intensity                  5.64     4.38     5.68     7.80    4.32\n",
       "hue                              1.04     1.05     1.03     0.86    1.04\n",
       "OD280/OD315_of_diluted_wines     3.92     3.40     3.17     3.45    2.93\n",
       "proline                       1065.00  1050.00  1185.00  1480.00  735.00"
      ]
     },
     "execution_count": 1,
     "metadata": {},
     "output_type": "execute_result"
    }
   ],
   "source": [
    "%matplotlib inline\n",
    "\n",
    "import pandas as pd\n",
    "\n",
    "wine_df = pd.read_csv(\"./dataset/wine/wine.data\")\n",
    "wine_df.head().T"
   ]
  },
  {
   "cell_type": "code",
   "execution_count": 6,
   "metadata": {},
   "outputs": [
    {
     "data": {
      "text/plain": [
       "array([[<matplotlib.axes._subplots.AxesSubplot object at 0x7f50477badd8>,\n",
       "        <matplotlib.axes._subplots.AxesSubplot object at 0x7f50476d11d0>,\n",
       "        <matplotlib.axes._subplots.AxesSubplot object at 0x7f50477096d8>,\n",
       "        <matplotlib.axes._subplots.AxesSubplot object at 0x7f50476b6c88>],\n",
       "       [<matplotlib.axes._subplots.AxesSubplot object at 0x7f5047675278>,\n",
       "        <matplotlib.axes._subplots.AxesSubplot object at 0x7f5047624828>,\n",
       "        <matplotlib.axes._subplots.AxesSubplot object at 0x7f50475d2b00>,\n",
       "        <matplotlib.axes._subplots.AxesSubplot object at 0x7f5047592128>],\n",
       "       [<matplotlib.axes._subplots.AxesSubplot object at 0x7f5047592160>,\n",
       "        <matplotlib.axes._subplots.AxesSubplot object at 0x7f5047574c50>,\n",
       "        <matplotlib.axes._subplots.AxesSubplot object at 0x7f5047531240>,\n",
       "        <matplotlib.axes._subplots.AxesSubplot object at 0x7f50474e27f0>],\n",
       "       [<matplotlib.axes._subplots.AxesSubplot object at 0x7f5047493da0>,\n",
       "        <matplotlib.axes._subplots.AxesSubplot object at 0x7f5047451390>,\n",
       "        <matplotlib.axes._subplots.AxesSubplot object at 0x7f5047483940>,\n",
       "        <matplotlib.axes._subplots.AxesSubplot object at 0x7f5047435ef0>]],\n",
       "      dtype=object)"
      ]
     },
     "execution_count": 6,
     "metadata": {},
     "output_type": "execute_result"
    },
    {
     "data": {
      "image/png": "[encoded data removed]",
      "text/plain": [
       "<Figure size 1440x720 with 16 Axes>"
      ]
     },
     "metadata": {
      "needs_background": "light"
     },
     "output_type": "display_data"
    }
   ],
   "source": [
    "wine_df.hist(figsize=(20,10))"
   ]
  },
  {
   "cell_type": "markdown",
   "metadata": {},
   "source": [
    "## Normal / Gaussian distribution\n",
    "\n",
    "TBD: short description (mean, variance, standard deviation, intuitions)"
   ]
  },
  {
   "cell_type": "markdown",
   "metadata": {},
   "source": [
    "## Z-score / normal score"
   ]
  },
  {
   "cell_type": "code",
   "execution_count": null,
   "metadata": {},
   "outputs": [],
   "source": []
  }
 ],
 "metadata": {
  "kernelspec": {
   "display_name": "Python 3",
   "language": "python",
   "name": "python3"
  },
  "language_info": {
   "codemirror_mode": {
    "name": "ipython",
    "version": 3
   },
   "file_extension": ".py",
   "mimetype": "text/x-python",
   "name": "python",
   "nbconvert_exporter": "python",
   "pygments_lexer": "ipython3",
   "version": "3.6.8"
  }
 },
 "nbformat": 4,
 "nbformat_minor": 2
}
